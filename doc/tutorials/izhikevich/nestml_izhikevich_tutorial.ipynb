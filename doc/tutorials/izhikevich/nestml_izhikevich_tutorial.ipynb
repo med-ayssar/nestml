{
 "cells": [
  {
   "cell_type": "markdown",
   "metadata": {},
   "source": [
    "# NESTML Izhikevich tutorial\n",
    "\n",
    "Introduction\n",
    "------------\n",
    "\n",
    "The aim of this exercise is to obtain familiarity with NESTML by completing a partial model of the Izhikevich neuron [1].\n",
    "\n",
    "\n",
    "Prerequisites\n",
    "-------------\n",
    "\n",
    "You need to have a working NEST Simulator and NESTML installation, see [Installing NESTML](https://nestml.readthedocs.io/en/latest/installation.html).\n",
    "\n",
    "You need to be able to run NESTML to generate and build model code. NESTML can be used from the command line, and via a Python API. The latter will be used in this notebook. See [Running NESTML](https://nestml.readthedocs.io/en/latest/running.html)."
   ]
  },
  {
   "cell_type": "code",
   "execution_count": null,
   "metadata": {},
   "outputs": [],
   "source": [
    "%matplotlib inline\n",
    "import matplotlib.pyplot as plt\n",
    "import nest\n",
    "import numpy as np\n",
    "import os\n",
    "import sys\n",
    "sys.path.append(\"/home/ayssar/Projects/nest/nestml\")\n",
    "sys.path.append(\"/home/ayssar/Projects/nest/nest_build/replace-message-calls-withColor/install/lib/python3.8/site-packages\")\n",
    "\n",
    "from pynestml.frontend.pynestml_frontend import to_nest, install_nest\n",
    "\n",
    "NEST_SIMULATOR_INSTALL_LOCATION = nest.ll_api.sli_func(\"statusdict/prefix ::\")\n"
   ]
  },
  {
   "cell_type": "markdown",
   "metadata": {},
   "source": [
    "### Paths\n",
    "\n",
    "We assume here that we will generate code in a temporary directory `/tmp/nestml-component`. You can also create a unique temporary path using the [Python tempfile module](https://docs.python.org/3/library/tempfile.html).\n",
    "\n",
    "\n",
    "The Izhikevich model\n",
    "--------------------\n",
    "\n",
    "A simple model for spiking neurons that nevertheless can exhibit a wide variety of dynamical behaviour, depending on its parameter values [1]. It is defined as follows:\n",
    "\n",
    "\\begin{align}\n",
    "\\frac{dv}{dt} &= 0.04 v^2 + 5 v + 140 - u + I\\\\\n",
    "\\frac{du}{dt} &= a (b v - u)\n",
    "\\end{align}\n",
    "\n",
    "State update:\n",
    "\n",
    "\\begin{align}\n",
    "   &\\text{if}\\;\\; v \\geq V_{th}:\\\\\n",
    "   &\\;\\;\\;\\; v \\text{ is set to } c\\\\\n",
    "   &\\;\\;\\;\\; u \\text{ is incremented by } d\\\\\n",
    "   & \\, \\\\\n",
    "   &v \\text{ jumps on each spike arrival by the weight of the spike}\n",
    "\\end{align}\n",
    "\n",
    "Example parameters for regular spiking (the meaning of these parameters is described in detail in the paper [1]; see also Task 2 below): \n",
    "\n",
    "\\begin{align}\n",
    "a&=0.02\\\\\n",
    "b&=0.2\\\\\n",
    "c&=-65~\\text{mV}\\\\\n",
    "d&=8\n",
    "\\end{align}\n",
    "\n",
    "\n",
    "Task 1: Finish the model\n",
    "------------------------\n",
    "\n",
    "In the file [`izhikevich_task.nestml`](https://raw.githubusercontent.com/nest/nestml/master/doc/tutorials/izhikevich/izhikevich_task.nestml), only a subset of the parameters, state equations and update block is implemented.\n",
    "\n",
    "Open the file in a text editor and finish the partially-completed model.\n",
    "\n",
    "For reference, the solution is included as [`izhikevich_solution.nestml`](https://raw.githubusercontent.com/nest/nestml/master/doc/tutorials/izhikevich/izhikevich_solution.nestml)."
   ]
  },
  {
   "cell_type": "markdown",
   "metadata": {},
   "source": [
    "### NESTML code generation\n",
    "\n",
    "Assume that our NESTML input model is at `izhikevich_solution.nestml`. To generate code and build a dynamic library that can be loaded as a user module in NEST Simulator:"
   ]
  },
  {
   "cell_type": "code",
   "execution_count": null,
   "metadata": {},
   "outputs": [],
   "source": [
    "to_nest(input_path=\"izhikevich_solution.nestml\",\n",
    "        target_path=\"/tmp/nestml-component\",\n",
    "        logging_level=\"ERROR\")\n",
    "install_nest(\"/tmp/nestml-component\", NEST_SIMULATOR_INSTALL_LOCATION)"
   ]
  },
  {
   "cell_type": "markdown",
   "metadata": {},
   "source": [
    "Check the generated log output for any potential error messages or warnings.\n",
    "\n",
    "The generated module is called ``nestmlmodule`` by default. It can be loaded using ``nest.Install()``:"
   ]
  },
  {
   "cell_type": "code",
   "execution_count": null,
   "metadata": {},
   "outputs": [],
   "source": [
    "nest.Install(\"nestmlmodule\")"
   ]
  },
  {
   "cell_type": "markdown",
   "metadata": {},
   "source": [
    "### Instantiate model in NEST Simulator and run\n",
    "\n",
    "Using the PyNEST API, the model can be instantiated and simulated in NEST. The following code will create one instance of the neuron model (`nest.Create(\"izhikevich_tutorial\")`), inject a constant current and run the simulation for 250 ms."
   ]
  },
  {
   "cell_type": "code",
   "execution_count": null,
   "metadata": {},
   "outputs": [],
   "source": [
    "nest.set_verbosity(\"M_WARNING\")\n",
    "nest.ResetKernel()\n",
    "\n",
    "neuron = nest.Create(\"izhikevich_tutorial\")\n",
    "voltmeter = nest.Create(\"voltmeter\")\n",
    "\n",
    "voltmeter.set({\"record_from\": [\"v\", \"u\"]})\n",
    "nest.Connect(voltmeter, neuron)\n",
    "\n",
    "cgs = nest.Create('dc_generator')\n",
    "cgs.set({\"amplitude\": 25.})\n",
    "nest.Connect(cgs, neuron)\n",
    "\n",
    "sr = nest.Create(\"spike_recorder\")\n",
    "nest.Connect(neuron, sr)\n",
    "\n",
    "nest.Simulate(250.)\n",
    "\n",
    "spike_times = nest.GetStatus(sr, keys='events')[0]['times']\n",
    "\n",
    "fig, ax = plt.subplots(nrows=2)\n",
    "ax[0].plot(voltmeter.get(\"events\")[\"times\"], voltmeter.get(\"events\")[\"v\"])\n",
    "ax[1].plot(voltmeter.get(\"events\")[\"times\"], voltmeter.get(\"events\")[\"u\"])\n",
    "ax[0].scatter(spike_times, 30 * np.ones_like(spike_times), marker=\"d\", c=\"orange\", alpha=.8, zorder=99)\n",
    "for _ax in ax:\n",
    "    _ax.grid(True)\n",
    "ax[0].set_ylabel(\"v [mV]\")\n",
    "ax[1].set_ylabel(\"u\")\n",
    "ax[-1].set_xlabel(\"Time [ms]\")\n",
    "fig.show()"
   ]
  },
  {
   "cell_type": "markdown",
   "metadata": {},
   "source": [
    "Task 2: Parameter space exploration\n",
    "-----------------------------------\n",
    "\n",
    "Perform a parameter space exploration to reproduce the bottom eight panels from [1], figure 2."
   ]
  },
  {
   "cell_type": "markdown",
   "metadata": {},
   "source": [
    "## References\n",
    "\n",
    "[1] Eugene M. Izhikevich, \"Simple Model of Spiking Neurons\", IEEE Transactions on Neural Networks, Vol. 14, No. 6, November 2003\n",
    "\n",
    "## Copyright\n",
    "\n",
    "This file is part of NEST.\n",
    "\n",
    "Copyright (C) 2004 The NEST Initiative\n",
    "\n",
    "NEST is free software: you can redistribute it and/or modify it under the terms of the GNU General Public License as published by the Free Software Foundation, either version 2 of the License, or (at your option) any later version.\n",
    "\n",
    "NEST is distributed in the hope that it will be useful, but WITHOUT ANY WARRANTY; without even the implied warranty of MERCHANTABILITY or FITNESS FOR A PARTICULAR PURPOSE.  See the GNU General Public License for more details.\n",
    "\n",
    "You should have received a copy of the GNU General Public License along with NEST.  If not, see <http://www.gnu.org/licenses/>.\n"
   ]
  }
 ],
 "metadata": {
  "kernelspec": {
   "display_name": "Python 3",
   "language": "python",
   "name": "python3"
  },
  "language_info": {
   "codemirror_mode": {
    "name": "ipython",
    "version": 3
   },
   "file_extension": ".py",
   "mimetype": "text/x-python",
   "name": "python",
   "nbconvert_exporter": "python",
   "pygments_lexer": "ipython3",
   "version": "3.8.10"
  }
 },
 "nbformat": 4,
 "nbformat_minor": 4
}
