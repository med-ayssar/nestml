{
 "cells": [
  {
   "cell_type": "markdown",
   "metadata": {},
   "source": [
    "# NESTML Ornstein-Uhlenbeck noise tutorial\n",
    "\n",
    "In this tutorial, we will formulate the Ornstein-Uhlenbeck (O-U) noise process in NESTML and simulate it in NEST Simulator."
   ]
  },
  {
   "cell_type": "code",
   "execution_count": null,
   "metadata": {},
   "outputs": [],
   "source": [
    "%matplotlib inline\n",
    "import matplotlib.pyplot as plt\n",
    "import nest\n",
    "import numpy as np\n",
    "import os\n",
    "from pynestml.frontend.pynestml_frontend import to_nest, install_nest\n",
    "\n",
    "NEST_SIMULATOR_INSTALL_LOCATION = nest.ll_api.sli_func(\"statusdict/prefix ::\")"
   ]
  },
  {
   "cell_type": "markdown",
   "metadata": {},
   "source": [
    "## The Ornstein-Uhlenbeck process\n",
    "\n",
    "The Ornstein-Uhlenbeck process is often used as a source of noise because it is well understood and has convenient properties (it is a Gaussian process, has the Markov property, and is stationary). Let the O-U process, denoted $U(t)$ (with $t\\geq 0$) , be defined as the solution of the following stochastic differential equation:\n",
    "\n",
    "\\begin{align}\n",
    "\\frac{dU}{dt} = \\frac{\\mu - U}{\\tau} + \\sigma\\sqrt{\\frac 2 \\tau} \\frac{dB(t)}{dt}\n",
    "\\end{align}\n",
    "\n",
    "The first right-hand side term is a \"drift\" term which is deterministic and slowly reverts $U_t$ to the mean $\\mu$, with time constant $\\tau$. The second term is stochastic as $B(t)$ is the Brownian motion (also \"Wiener\") process, and $\\sigma>0$ is the standard deviation of the noise.\n",
    "\n",
    "It turns out that the infinitesimal step in Brownian motion is white noise, that is, an independent and identically distributed sequence of Gaussian $\\mathcal{N}(0, 1)$ random variables. The noise $dB(t)/dt$ can be sampled at time $t$ by drawing a sample from that Gaussian distribution, so if the process is sampled at discrete intervals of length $h$, we can write (equation 2.47 from [\\[1\\]](#References)):\n",
    "\n",
    "\\begin{align}\n",
    "U(t + h) = (U(t) - \\mu)\\exp(-h/\\tau) + \\sigma\\sqrt{(1 - \\exp(-2h / \\tau ))} \\cdot\\mathcal{N}(0, 1)\n",
    "\\end{align}"
   ]
  },
  {
   "cell_type": "markdown",
   "metadata": {},
   "source": [
    "## Simulating the Ornstein-Uhlenbeck process with NESTML\n",
    "\n",
    "### Formulating the model in NESTML\n",
    "\n",
    "The O-U process is now defined as a stepwise update equation, that is carried out at each timestep. All statements contained in the NESTML ``update`` block are run at every timestep, so this is a natural place to place the O-U updates.\n",
    "\n",
    "Updating the O-U process state requires knowledge about how much time has elapsed. As we will update the process once every simulation timestep, we pass this value by invoking the ``resolution()`` function."
   ]
  },
  {
   "cell_type": "code",
   "execution_count": null,
   "metadata": {},
   "outputs": [],
   "source": [
    "nestml_ou_model = '''\n",
    "neuron ornstein_uhlenbeck_noise:\n",
    "\n",
    "parameters:\n",
    "  mean_noise real = 500    # mean of the noise\n",
    "  sigma_noise real = 50    # std. dev. of the noise\n",
    "  tau_noise ms = 20 ms     # time constant of the noise\n",
    "end\n",
    "\n",
    "internals:\n",
    "  A_noise real = sigma_noise * ((1 - exp(-2 * resolution() / tau_noise)))**.5\n",
    "end\n",
    "\n",
    "state:\n",
    "  U real = mean_noise   # set the initial condition\n",
    "end\n",
    "\n",
    "update:\n",
    "  U = mean_noise \\\n",
    "     + (U - mean_noise) * exp(-resolution() / tau_noise) \\\n",
    "     + A_noise * random_normal(0, 1)\n",
    "end\n",
    "\n",
    "end\n",
    "'''"
   ]
  },
  {
   "cell_type": "markdown",
   "metadata": {},
   "source": [
    "Save to a temporary file and make the model available to instantiate in NEST:"
   ]
  },
  {
   "cell_type": "code",
   "execution_count": null,
   "metadata": {},
   "outputs": [],
   "source": [
    "with open(\"ornstein_uhlenbeck_noise.nestml\", \"w\") as nestml_model_file:\n",
    "    print(nestml_ou_model, file=nestml_model_file)\n",
    "\n",
    "to_nest(input_path=\"ornstein_uhlenbeck_noise.nestml\",\n",
    "        target_path=\"/tmp/nestml-ou-noise-target\",\n",
    "        module_name=\"nestml_ou_module\",\n",
    "        suffix=\"_nestml\",\n",
    "        logging_level=\"ERROR\")\n",
    "install_nest(\"/tmp/nestml-ou-noise-target\", NEST_SIMULATOR_INSTALL_LOCATION)\n",
    "nest.Install(\"nestml_ou_module\")"
   ]
  },
  {
   "cell_type": "markdown",
   "metadata": {},
   "source": [
    "### Running the simulation in NEST\n",
    "\n",
    "Let's define a function that will instantiate and set parameters for the O-U model, run a simulation, and plot and return the results."
   ]
  },
  {
   "cell_type": "code",
   "execution_count": null,
   "metadata": {},
   "outputs": [],
   "source": [
    "def evaluate_ou_process(h: float=.1, t_sim:float=100., neuron_parms=None, title=None, plot=True):\n",
    "    \"\"\"\n",
    "    h : float\n",
    "        timestep in ms\n",
    "    t_sim : float\n",
    "        total simulation time in ms\n",
    "    \"\"\"\n",
    "    nest.ResetKernel()\n",
    "    nest.SetKernelStatus({\"resolution\": h})\n",
    "    neuron = nest.Create(\"ornstein_uhlenbeck_noise_nestml\")\n",
    "\n",
    "    if neuron_parms:\n",
    "        for k, v in neuron_parms.items():\n",
    "            nest.SetStatus(neuron, k, v)\n",
    "            \n",
    "    multimeter = nest.Create(\"multimeter\")\n",
    "    multimeter.set({\"record_from\": [\"U\"],\n",
    "                    \"interval\": h})\n",
    "    nest.Connect(multimeter, neuron)\n",
    "    \n",
    "    nest.Simulate(t_sim)\n",
    "\n",
    "    dmm = nest.GetStatus(multimeter)[0]\n",
    "    U = dmm[\"events\"][\"U\"]\n",
    "    timevec = dmm[\"events\"][\"times\"]\n",
    "    \n",
    "    if plot:\n",
    "        fig, ax = plt.subplots(figsize=(12., 5.))\n",
    "        if title is not None:\n",
    "            fig.suptitle(title)\n",
    "        ax.plot(timevec, U)\n",
    "        ax.set_xlabel(\"Time [ms]\")\n",
    "        ax.set_ylabel(\"U\")\n",
    "        ax.set_xlim(0., t_sim)\n",
    "        ax.grid()\n",
    "    \n",
    "    return timevec, U"
   ]
  },
  {
   "cell_type": "markdown",
   "metadata": {},
   "source": [
    "Then, we can run the process. Hint: play with the parameters a bit here and see the effects it has on the returned timeseries."
   ]
  },
  {
   "cell_type": "code",
   "execution_count": null,
   "metadata": {},
   "outputs": [],
   "source": [
    "timevec, U = evaluate_ou_process(h=1.,\n",
    "                                 t_sim=1000.,\n",
    "                                 neuron_parms={\"U\" : -2500.,\n",
    "                                               \"mean_noise\": -3333.,\n",
    "                                               \"tau_noise\": 20.,\n",
    "                                               \"sigma_noise\": 100.},\n",
    "                                title=r\"Ornstein-Uhlenbeck process\")"
   ]
  },
  {
   "cell_type": "markdown",
   "metadata": {},
   "source": [
    "### Correctness test based on predicting variance\n",
    "\n",
    "Assuming that the initial value of the process is picked equal to the process mean, we can predict the variance of the timeseries as ([\\[1\\]](#References), eq. 2.26):\n",
    "    \n",
    "\\begin{align}\n",
    "\\text{Var}(U) = \\sigma^2\n",
    "\\end{align}\n",
    "\n",
    "We now run a consistency check across parameters, to make sure that the prediction matches the result derived from the timeseries generated by sampling the process."
   ]
  },
  {
   "cell_type": "code",
   "execution_count": null,
   "metadata": {},
   "outputs": [],
   "source": [
    "h = [.01, .1, 1.]\n",
    "tau_noise = [10., 100., 1000.]\n",
    "sigma_noise = [0., 10., 100., 1000.]\n",
    "\n",
    "max_rel_error = .25   # yes, this is pretty terrible!\n",
    "                      # Need a very long integration time (esp. for large tau)\n",
    "                      # to get a tighter bound.\n",
    "\n",
    "for _h in h:\n",
    "    for _tau_noise in tau_noise:\n",
    "        for _sigma_noise in sigma_noise:\n",
    "            print(\"For h = \" + str(_h) + \", tau_noise = \" + str(_tau_noise) + \", sigma_noise = \" + str(_sigma_noise))\n",
    "            c = (_sigma_noise * np.sqrt(2 / _tau_noise))**2\n",
    "            timevec, U = evaluate_ou_process(h=_h,\n",
    "                                             t_sim=25000.,\n",
    "                                             neuron_parms={\"U\" : 0.,\n",
    "                                                           \"mean_noise\": 0.,\n",
    "                                                           \"tau_noise\": _tau_noise,\n",
    "                                                           \"sigma_noise\": _sigma_noise},\n",
    "                                            title=r\"Ornstein-Uhlenbeck process ($\\tau$=\" + str(_tau_noise) + \", $\\sigma$=\" + str(_sigma_noise) + \")\",\n",
    "                                            plot=False)\n",
    "            var_actual = np.var(U)\n",
    "            print(\"Actual variance: \" + str(var_actual))\n",
    "            var_expected = _sigma_noise**2\n",
    "            print(\"Expected variance: \" + str(var_expected))\n",
    "            if var_actual < 1E-15:\n",
    "                assert var_expected < 1E-15\n",
    "            else:\n",
    "                assert np.abs(var_expected - var_actual) / (var_expected + var_actual) < max_rel_error"
   ]
  },
  {
   "cell_type": "markdown",
   "metadata": {},
   "source": [
    "### Autocorrelogram\n",
    "\n",
    "If we plot the autocorrelogram, we should find high correlations only for lags lower than $\\tau$.\n",
    "\n",
    "Let's look at a process with $\\tau=1000$:"
   ]
  },
  {
   "cell_type": "code",
   "execution_count": null,
   "metadata": {},
   "outputs": [],
   "source": [
    "timevec, U = evaluate_ou_process(h=_h,\n",
    "                                 t_sim=10000.,\n",
    "                                 neuron_parms={\"U\" : 0.,\n",
    "                                               \"mean_noise\": 0.,\n",
    "                                               \"tau_noise\": 1000.,\n",
    "                                               \"sigma_noise\": 1000.},\n",
    "                                 title=r\"Ornstein-Uhlenbeck process ($\\tau$=1000, $\\sigma$=1000)\")"
   ]
  },
  {
   "cell_type": "code",
   "execution_count": null,
   "metadata": {},
   "outputs": [],
   "source": [
    "def autocorr(x):\n",
    "    return np.correlate(x, x, mode='full')\n",
    "\n",
    "fig, ax = plt.subplots(figsize=(12., 5.))\n",
    "U_autocorr = autocorr(U)\n",
    "lags = np.arange(len(U_autocorr)) - len(U_autocorr) / 2\n",
    "ax.plot(lags, U_autocorr)\n",
    "ax.set_xlabel(\"Lag [ms]\")\n",
    "ax.set_ylabel(\"Autocorr[U]\")\n",
    "ax.grid()"
   ]
  },
  {
   "cell_type": "markdown",
   "metadata": {},
   "source": [
    "## Integrating Ornstein-Uhlenbeck noise into a NESTML integrate-and-fire neuron\n",
    "\n",
    "Now, the O-U noise process is integrated into an existing NESTML model, as an extra somatic current $I_{noise}$. In this example, w use the integrate-and-fire neuron with current based synapses and an exponentially shaped synaptic kernel, and no refractoriness mechanism.\n",
    "\n",
    "This neuron can be written in just a few lines of NESTML:\n"
   ]
  },
  {
   "cell_type": "code",
   "execution_count": null,
   "metadata": {},
   "outputs": [],
   "source": [
    "iaf_psc_exp = '''\n",
    "neuron iaf_psc_exp:\n",
    "\n",
    "  state:\n",
    "    V_m mV = E_L\n",
    "    I_noise pA = mean_noise\n",
    "  end\n",
    "  \n",
    "  equations:\n",
    "    kernel psc_kernel = exp(-t / tau_syn)\n",
    "    V_m' = -(V_m - E_L) / tau_m + (convolve(psc_kernel, spikes) + I_e + I_noise) / C_m\n",
    "  end\n",
    "\n",
    "  parameters:\n",
    "    E_L mV = -65 mV      # resting potential\n",
    "    I_e pA = 0 pA        # constant external input current\n",
    "    tau_m ms = 25 ms     # membrane time constant\n",
    "    tau_syn ms = 5 ms    # synaptic time constant\n",
    "    C_m uF = 1 uF        # membrane capacitance\n",
    "    V_theta mV = -30 mV  # threshold potential\n",
    "    mean_noise pA = 0.057 pA       # mean of the noise current\n",
    "    sigma_noise pA = 0.003 pA      # standard deviation of the noise current\n",
    "    tau_noise ms = 10 ms              # time constant of the noise process\n",
    "  end\n",
    "\n",
    "  internals:\n",
    "    A_noise real = sigma_noise * ((1 - exp(-2 * resolution() / tau_noise)))**.5\n",
    "  end\n",
    "\n",
    "  input:\n",
    "    spikes pA <- spike\n",
    "  end\n",
    "  \n",
    "  output: spike\n",
    "  \n",
    "  update:\n",
    "    integrate_odes()\n",
    "\n",
    "    I_noise = mean_noise \\\n",
    "              + (I_noise - mean_noise) * exp(-resolution() / tau_noise) \\\n",
    "              + A_noise * random_normal(0, 1)\n",
    "\n",
    "    if V_m > V_theta:\n",
    "      V_m = E_L\n",
    "      emit_spike()\n",
    "    end\n",
    "  end\n",
    "\n",
    "end\n",
    "'''\n"
   ]
  },
  {
   "cell_type": "code",
   "execution_count": null,
   "metadata": {},
   "outputs": [],
   "source": [
    "with open(\"iaf_psc_exp.nestml\", \"w\") as nestml_model_file:\n",
    "    print(iaf_psc_exp, file=nestml_model_file)\n",
    "\n",
    "to_nest(input_path=\"iaf_psc_exp.nestml\",\n",
    "        target_path=\"/tmp/nestml-target\",\n",
    "        module_name=\"nestml_iaf_module\",\n",
    "        suffix=\"_nestml\", logging_level=\"ERROR\",dev=True)\n",
    "install_nest(\"/tmp/nestml-target\", NEST_SIMULATOR_INSTALL_LOCATION)"
   ]
  },
  {
   "cell_type": "markdown",
   "metadata": {},
   "source": [
    "Now, the NESTML model is ready to be used in a simulation."
   ]
  },
  {
   "cell_type": "code",
   "execution_count": null,
   "metadata": {},
   "outputs": [],
   "source": [
    "def evaluate_neuron(neuron_name, neuron_parms=None, I_e=0.,\n",
    "                    mu=0., sigma=0., t_sim=300., plot=True):\n",
    "    \"\"\"\n",
    "    Run a simulation in NEST for the specified neuron. Inject a stepwise\n",
    "    current and plot the membrane potential dynamics and spikes generated.\n",
    "    \"\"\"\n",
    "    dt = .1   # [ms]\n",
    "\n",
    "    nest.ResetKernel()\n",
    "    try:\n",
    "        nest.Install(\"nestml_iaf_module\")\n",
    "    except :\n",
    "        pass\n",
    "    neuron = nest.Create(neuron_name)\n",
    "    if neuron_parms:\n",
    "        for k, v in neuron_parms.items():\n",
    "            nest.SetStatus(neuron, k, v)\n",
    "    nest.SetStatus(neuron, \"I_e\", I_e)\n",
    "    nest.SetStatus(neuron, \"mean_noise\", mu)\n",
    "    nest.SetStatus(neuron, \"sigma_noise\", sigma)\n",
    "    \n",
    "    multimeter = nest.Create(\"multimeter\")\n",
    "    multimeter.set({\"record_from\": [\"V_m\"],\n",
    "                    \"interval\": dt})\n",
    "    sr = nest.Create(\"spike_recorder\")\n",
    "    nest.Connect(multimeter, neuron)\n",
    "    nest.Connect(neuron, sr)\n",
    "    \n",
    "    nest.Simulate(t_sim)\n",
    "\n",
    "    dmm = nest.GetStatus(multimeter)[0]\n",
    "    Voltages = dmm[\"events\"][\"V_m\"]\n",
    "    tv = dmm[\"events\"][\"times\"]\n",
    "    dSD = nest.GetStatus(sr, keys='events')[0]\n",
    "    spikes = dSD['senders']\n",
    "    ts = dSD[\"times\"]\n",
    "    \n",
    "    _idx = [np.argmin((tv - spike_time)**2) - 1 for spike_time in ts]\n",
    "    V_m_at_spike_times = Voltages[_idx]\n",
    "    \n",
    "    if plot:\n",
    "        fig, ax = plt.subplots()\n",
    "        ax.plot(tv, Voltages)\n",
    "        ax.scatter(ts, V_m_at_spike_times)\n",
    "        ax.set_xlabel(\"Time [ms]\")\n",
    "        ax.set_ylabel(\"V_m [mV]\")\n",
    "        ax.grid()\n",
    "\n",
    "    return ts"
   ]
  },
  {
   "cell_type": "markdown",
   "metadata": {},
   "source": [
    "If we stimulate the neuron with a constant current of 1 µA alone, it does not spike:"
   ]
  },
  {
   "cell_type": "code",
   "execution_count": null,
   "metadata": {},
   "outputs": [],
   "source": [
    "spike_times = evaluate_neuron(\"iaf_psc_exp_nestml\", mu=1E6, sigma=0.)"
   ]
  },
  {
   "cell_type": "markdown",
   "metadata": {},
   "source": [
    "However, for the same $\\mu$=1 µA, but setting $\\sigma$=2 µA/√ms, the effect of the noise can be clearly seen in the membrane potential, and the occasional spiking of the neuron:\n"
   ]
  },
  {
   "cell_type": "code",
   "execution_count": null,
   "metadata": {},
   "outputs": [],
   "source": [
    "spike_times = evaluate_neuron(\"iaf_psc_exp_nestml\", mu=1E6, sigma=2E6)"
   ]
  },
  {
   "cell_type": "markdown",
   "metadata": {},
   "source": [
    "To further quantify the effects of the noise, we can plot a distribution of interspike intervals:"
   ]
  },
  {
   "cell_type": "code",
   "execution_count": null,
   "metadata": {},
   "outputs": [],
   "source": [
    "spike_times = evaluate_neuron(\"iaf_psc_exp_nestml\",\n",
    "                              mu=1E6,\n",
    "                              sigma=2E6,\n",
    "                              t_sim=25000.,\n",
    "                              plot=False)\n",
    "\n",
    "ISI = np.diff(spike_times)\n",
    "ISI_mean = np.mean(ISI)\n",
    "ISI_std = np.std(ISI)\n",
    "\n",
    "print(str(len(spike_times)) + \" spikes recorded\")\n",
    "print(\"Mean ISI: \" + str(ISI_mean))\n",
    "print(\"ISI std. dev.: \" + str(ISI_std))\n",
    "\n",
    "count, bin_edges = np.histogram(ISI)\n",
    "\n",
    "fig, ax = plt.subplots()\n",
    "ax.bar(bin_edges[:-1], count, width=.8 * (bin_edges[1] - bin_edges[0]))\n",
    "ylim = ax.get_ylim()\n",
    "ax.plot([ISI_mean, ISI_mean], ax.get_ylim(), c=\"#11CC22\", linewidth=3)\n",
    "ax.plot([ISI_mean - ISI_std, ISI_mean - ISI_std], ylim, c=\"#CCCC11\", linewidth=3)\n",
    "ax.plot([ISI_mean + ISI_std, ISI_mean + ISI_std], ylim, c=\"#CCCC11\", linewidth=3)\n",
    "ax.set_ylim(ylim)\n",
    "ax.set_xlabel(\"ISI [ms]\")\n",
    "ax.set_ylabel(\"Count\")\n",
    "ax.grid()"
   ]
  },
  {
   "cell_type": "markdown",
   "metadata": {},
   "source": [
    "Further directions\n",
    "----------\n",
    "\n",
    "* Calculate and plot the time-varying expected variance of the OU process when its initial value is unequal to the process mean ([1], eq. 2.26; see Fig. 2 for a visual example)\n",
    "* Make an extension of the neuron model, that stimulates the cell with an inhibitory as well as excitatory noise current.\n",
    "* Instead of a current-based noise, make a neuron model that contains a conductance-based noise."
   ]
  },
  {
   "cell_type": "markdown",
   "metadata": {},
   "source": [
    "References\n",
    "----------\n",
    "\n",
    "[1] D.T. Gillespie, \"The mathematics of Brownian motion and Johnson noise\", Am. J. Phys. 64, 225 (1996); doi: 10.1119/1.18210\n",
    "\n",
    "\n",
    "\n",
    "\n",
    "\n",
    "\n",
    "\n",
    "\n",
    "\n"
   ]
  },
  {
   "cell_type": "markdown",
   "metadata": {},
   "source": [
    "Acknowledgements\n",
    "----------------\n",
    "\n",
    "Thanks to Tobias Schulte to Brinke, Barna Zajzon, Renato Duarte, Claudia Bachmann and all participants of the CNS2020 tutorial on NEST Desktop & NESTML!\n",
    "\n",
    "This software was developed in part or in whole in the Human Brain Project, funded from the European Union’s Horizon 2020 Framework Programme for Research and Innovation under Specific Grant Agreements No. 720270 and No. 785907 (Human Brain Project SGA1 and SGA2).\n",
    "\n",
    "License\n",
    "-------\n",
    "\n",
    "This notebook (and associated files) is free software: you can redistribute it and/or modify it under the terms of the GNU General Public License as published by the Free Software Foundation, either version 2 of the License, or (at your option) any later version.\n",
    "\n",
    "This notebook (and associated files) is distributed in the hope that it will be useful, but WITHOUT ANY WARRANTY; without even the implied warranty of MERCHANTABILITY or FITNESS FOR A PARTICULAR PURPOSE. See the GNU General Public License for more details."
   ]
  }
 ],
 "metadata": {
  "kernelspec": {
   "display_name": "Python 3",
   "language": "python",
   "name": "python3"
  },
  "language_info": {
   "codemirror_mode": {
    "name": "ipython",
    "version": 3
   },
   "file_extension": ".py",
   "mimetype": "text/x-python",
   "name": "python",
   "nbconvert_exporter": "python",
   "pygments_lexer": "ipython3",
   "version": "3.8.10"
  }
 },
 "nbformat": 4,
 "nbformat_minor": 4
}
